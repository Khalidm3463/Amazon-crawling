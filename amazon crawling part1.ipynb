{
 "cells": [
  {
   "cell_type": "code",
   "execution_count": 6,
   "id": "de467f68",
   "metadata": {},
   "outputs": [],
   "source": [
    "from bs4 import BeautifulSoup\n",
    "import requests\n",
    "import pandas as pd\n",
    "import numpy as np\n"
   ]
  },
  {
   "cell_type": "code",
   "execution_count": 7,
   "id": "c04dff14",
   "metadata": {},
   "outputs": [],
   "source": [
    "# Function to extract Product URL\n",
    "def get_url(soup):\n",
    "    try:\n",
    "        url = soup.find(\"a\", attrs={\"class\":\"a-link-normal a-text-normal\"})['href']\n",
    "    except AttributeError:\n",
    "        url = \"\"\n",
    "    return url\n",
    "\n",
    "# Function to extract Product Title\n",
    "def get_title(soup):\n",
    "    try:\n",
    "        title = soup.find(\"span\", attrs={\"class\":\"a-size-base-plus a-color-base a-text-normal\"}).text.strip()\n",
    "    except AttributeError:\n",
    "        title = \"\"\n",
    "    return title\n",
    "\n",
    "# Function to extract Product Price\n",
    "def get_price(soup):\n",
    "    try:\n",
    "        price = soup.find(\"span\", attrs={\"class\":\"a-price-whole\"}).text.strip()\n",
    "    except AttributeError:\n",
    "        price = \"\"\n",
    "    return price\n",
    "\n",
    "# Function to extract Product Rating\n",
    "def get_rating(soup):\n",
    "    try:\n",
    "        rating = soup.find(\"span\", attrs={\"class\":\"a-icon-alt\"}).text.strip()\n",
    "    except AttributeError:\n",
    "        rating = \"\"\n",
    "    return rating\n",
    "\n",
    "# Function to extract Number of User Reviews\n",
    "def get_review_count(soup):\n",
    "    try:\n",
    "        review_count = soup.find(\"span\", attrs={\"class\":\"a-size-base\"}).text.strip()\n",
    "    except AttributeError:\n",
    "        review_count = \"\"\n",
    "    return review_count"
   ]
  },
  {
   "cell_type": "code",
   "execution_count": 8,
   "id": "5d42a788",
   "metadata": {},
   "outputs": [],
   "source": [
    "if __name__ == '_main_':\n",
    "\n",
    "    # add your user agent \n",
    "    HEADERS = ({'User-Agent':'', 'Accept-Language': 'en-US, en;q=0.5'})\n",
    "\n",
    "    d = {\"url\":[], \"title\":[], \"price\":[], \"rating\":[], \"reviews\":[]}\n",
    "\n",
    "    # Loop for scraping product details from each page \n",
    "    for i in range(1, 21):\n",
    "        # The webpage URL\n",
    "        URL = f\"https://www.amazon.in/s?k=bags&crid=2M096C61O4MLT&page={i}&qid=1653308124&ref=sr_pg_1\"\n",
    "\n",
    "        # HTTP Request\n",
    "        webpage = requests.get(URL, headers=HEADERS)\n",
    "\n",
    "        # Soup Object containing all data\n",
    "        soup = BeautifulSoup(webpage.content, \"html.parser\")\n",
    "\n",
    "        # Fetch all products on the page as List of Tag Objects\n",
    "        products = soup.find_all(\"div\", attrs={'data-component-type':'s-search-result'})\n",
    "\n",
    "        # Loop for extracting product details from each product \n",
    "        for product in products:\n",
    "            # Function calls to extract necessary product information\n",
    "            d['url'].append(\"https://www.amazon.in\" + get_url(product))\n",
    "            d['title'].append(get_title(product))\n",
    "            d['price'].append(get_price(product))\n",
    "            d['rating'].append(get_rating(product))\n",
    "            d['reviews'].append(get_review_count(product))\n",
    "\n",
    "    # Create a dataframe from the dictionary\n",
    "    amazon_df = pd.DataFrame.from_dict(d)\n",
    "\n",
    "    # Drop any rows where title is not available\n",
    "    amazon_df['title'].replace('', np.nan, inplace=True)\n",
    "    amazon_df = amazon_df.dropna(subset=['title'])\n",
    "\n",
    "    # Save the dataframe to a csv file\n",
    "    amazon_df.to_csv(\"amazon_data.csv\", header=True, index=False)"
   ]
  },
  {
   "cell_type": "code",
   "execution_count": 9,
   "id": "75979dfc",
   "metadata": {},
   "outputs": [
    {
     "ename": "NameError",
     "evalue": "name 'amazon_df' is not defined",
     "output_type": "error",
     "traceback": [
      "\u001b[0;31m---------------------------------------------------------------------------\u001b[0m",
      "\u001b[0;31mNameError\u001b[0m                                 Traceback (most recent call last)",
      "Cell \u001b[0;32mIn[9], line 1\u001b[0m\n\u001b[0;32m----> 1\u001b[0m \u001b[43mamazon_df\u001b[49m\n",
      "\u001b[0;31mNameError\u001b[0m: name 'amazon_df' is not defined"
     ]
    }
   ],
   "source": [
    "amazon_df"
   ]
  },
  {
   "cell_type": "code",
   "execution_count": null,
   "id": "69777940",
   "metadata": {},
   "outputs": [],
   "source": []
  }
 ],
 "metadata": {
  "kernelspec": {
   "display_name": "Python 3 (ipykernel)",
   "language": "python",
   "name": "python3"
  },
  "language_info": {
   "codemirror_mode": {
    "name": "ipython",
    "version": 3
   },
   "file_extension": ".py",
   "mimetype": "text/x-python",
   "name": "python",
   "nbconvert_exporter": "python",
   "pygments_lexer": "ipython3",
   "version": "3.8.10"
  }
 },
 "nbformat": 4,
 "nbformat_minor": 5
}
